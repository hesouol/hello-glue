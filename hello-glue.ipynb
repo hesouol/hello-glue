{
 "cells": [
  {
   "cell_type": "code",
   "execution_count": 3,
   "metadata": {},
   "outputs": [],
   "source": [
    "import findspark\n",
    "findspark.init()\n",
    "\n",
    "from pyspark import SparkContext\n",
    "from pyspark.sql.context import SQLContext\n",
    "from pyspark.conf import SparkConf\n",
    "import os\n"
   ]
  },
  {
   "cell_type": "code",
   "execution_count": 4,
   "metadata": {},
   "outputs": [],
   "source": [
    "conf = SparkConf().setAppName(\"hello-glue\").setMaster(\"local\")\n",
    "sc = SparkContext(conf=conf)\n"
   ]
  },
  {
   "cell_type": "code",
   "execution_count": 5,
   "metadata": {},
   "outputs": [],
   "source": [
    "#Para execucao sem o aws-vault\n",
    "\n",
    "#ACCESS_KEY = \"ACCESS_KEY\"; SECRET_KEY = \"SECRET_KEY\"\n",
    "\n",
    "#sc._jsc.hadoopConfiguration().set(\"fs.s3n.awsAccessKeyId\", ACCESS_KEY)\n",
    "#sc._jsc.hadoopConfiguration().set(\"fs.s3n.awsSecretAccessKey\", SECRET_KEY)\n",
    "#sc._jsc.hadoopConfiguration().set(\"fs.s3n.impl\", \"org.apache.hadoop.fs.s3native.NativeS3FileSystem\")\n",
    "#sc._jsc.hadoopConfiguration().set(\"fs.s3a.multipart.size\", \"104857600\")\n",
    "#sc._jsc.hadoopConfiguration().set(\"fs.s3.buffer.dir\", \"buffer_dir\")"
   ]
  },
  {
   "cell_type": "code",
   "execution_count": 6,
   "metadata": {},
   "outputs": [
    {
     "name": "stdout",
     "output_type": "stream",
     "text": [
      "<awsglue.context.GlueContext object at 0x7ff065799490>\n"
     ]
    }
   ],
   "source": [
    "from awsglue.context import GlueContext\n",
    "gc = GlueContext(sc)\n",
    "\n",
    "print(gc)"
   ]
  },
  {
   "cell_type": "code",
   "execution_count": 8,
   "metadata": {},
   "outputs": [
    {
     "name": "stderr",
     "output_type": "stream",
     "text": [
      "/home/henrique/bin/spark-2.4.3-bin-spark-2.4.3-bin-hadoop2.8/python/lib/pyspark.zip/pyspark/sql/session.py:346: UserWarning: inferring schema from dict is deprecated,please use pyspark.sql.Row instead\n"
     ]
    },
    {
     "name": "stdout",
     "output_type": "stream",
     "text": [
      "root\n",
      "|-- attr0: string\n",
      "|-- id: long\n",
      "\n",
      "+------+---+\n",
      "| attr0| id|\n",
      "+------+---+\n",
      "|Attr 0|  1|\n",
      "|Attr 0|  2|\n",
      "+------+---+\n",
      "\n"
     ]
    }
   ],
   "source": [
    "from awsglue import DynamicFrame\n",
    "\n",
    "data1 = [{\"id\": 1, \"attr0\": \"Attr 0\"},\n",
    "{\"id\": 2, \"attr0\": \"Attr 0\"}]\n",
    "df1 = gc.spark_session.createDataFrame(data1)\n",
    "\n",
    "dyf1 = DynamicFrame.fromDF(df1, gc, \"dyf1\")\n",
    "\n",
    "dyf1.printSchema()\n",
    "\n",
    "df1.show()"
   ]
  },
  {
   "cell_type": "code",
   "execution_count": 9,
   "metadata": {},
   "outputs": [],
   "source": [
    "df1.write.mode('overwrite').parquet(\"s3://dev-creditas-data-lake-us-east-1/temp/\")"
   ]
  },
  {
   "cell_type": "code",
   "execution_count": 10,
   "metadata": {},
   "outputs": [
    {
     "data": {
      "text/plain": [
       "<awsglue.dynamicframe.DynamicFrame at 0x7ff0443bd190>"
      ]
     },
     "execution_count": 10,
     "metadata": {},
     "output_type": "execute_result"
    }
   ],
   "source": [
    "dyf1.write(\"s3\", connection_options = {\"path\": \"s3://dev-creditas-data-lake-us-east-1/temp/dynamic\"}, format = \"parquet\")"
   ]
  },
  {
   "cell_type": "code",
   "execution_count": null,
   "metadata": {},
   "outputs": [],
   "source": []
  }
 ],
 "metadata": {
  "kernelspec": {
   "display_name": "Python 3.7.5 64-bit",
   "language": "python",
   "name": "python37564bit928de24ccdbb4cd183818594a8f649dc"
  },
  "language_info": {
   "codemirror_mode": {
    "name": "ipython",
    "version": 3
   },
   "file_extension": ".py",
   "mimetype": "text/x-python",
   "name": "python",
   "nbconvert_exporter": "python",
   "pygments_lexer": "ipython3",
   "version": "3.7.5"
  }
 },
 "nbformat": 4,
 "nbformat_minor": 4
}